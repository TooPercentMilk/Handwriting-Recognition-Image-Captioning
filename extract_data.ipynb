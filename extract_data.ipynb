{
 "cells": [
  {
   "cell_type": "code",
   "execution_count": 2,
   "metadata": {},
   "outputs": [],
   "source": [
    "import pandas as pd\n",
    "import numpy as np\n",
    "import os\n",
    "import cv2"
   ]
  },
  {
   "cell_type": "code",
   "execution_count": 3,
   "metadata": {},
   "outputs": [
    {
     "name": "stderr",
     "output_type": "stream",
     "text": [
      "/var/folders/9p/n09d6qfj5d99hs5gvj02l5kr0000gn/T/ipykernel_4834/4193630527.py:18: VisibleDeprecationWarning: Creating an ndarray from ragged nested sequences (which is a list-or-tuple of lists-or-tuples-or ndarrays with different lengths or shapes) is deprecated. If you meant to do this, you must specify 'dtype=object' when creating the ndarray.\n",
      "  imgs = np.array(imgs)\n"
     ]
    }
   ],
   "source": [
    "def extract():\n",
    "    imgs = []\n",
    "    img_names = []\n",
    "\n",
    "    path = os.getcwd()\n",
    "    filename = path + '/Data/descriptions.csv'\n",
    "    captions = pd.read_csv(filename)\n",
    "\n",
    "    directory = path + '/Data/images/'\n",
    "\n",
    "    img_filenames = os.listdir(directory)\n",
    "\n",
    "    for f in img_filenames:\n",
    "        if f.endswith('.jpg'):\n",
    "            imgs.append(cv2.imread(directory + f))\n",
    "            img_names.append(f)\n",
    "\n",
    "    imgs = np.array(imgs)\n",
    "    images = pd.DataFrame({'filename': img_names, 'image_data': imgs})\n",
    "\n",
    "    return captions, images\n",
    "\n",
    "captions, images = extract() \n"
   ]
  },
  {
   "cell_type": "code",
   "execution_count": 7,
   "metadata": {},
   "outputs": [
    {
     "name": "stdout",
     "output_type": "stream",
     "text": [
      "<class 'pandas.core.frame.DataFrame'>\n",
      "RangeIndex: 4516 entries, 0 to 4515\n",
      "Data columns (total 2 columns):\n",
      " #   Column      Non-Null Count  Dtype \n",
      "---  ------      --------------  ----- \n",
      " 0   filename    4516 non-null   object\n",
      " 1   image_data  4516 non-null   object\n",
      "dtypes: object(2)\n",
      "memory usage: 70.7+ KB\n"
     ]
    }
   ],
   "source": [
    "# captions.info()\n",
    "images.info()"
   ]
  }
 ],
 "metadata": {
  "kernelspec": {
   "display_name": "env",
   "language": "python",
   "name": "python3"
  },
  "language_info": {
   "codemirror_mode": {
    "name": "ipython",
    "version": 3
   },
   "file_extension": ".py",
   "mimetype": "text/x-python",
   "name": "python",
   "nbconvert_exporter": "python",
   "pygments_lexer": "ipython3",
   "version": "3.10.9"
  }
 },
 "nbformat": 4,
 "nbformat_minor": 2
}
